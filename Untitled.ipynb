{
 "cells": [
  {
   "cell_type": "code",
   "execution_count": 1,
   "id": "passing-clearance",
   "metadata": {},
   "outputs": [],
   "source": [
    "import pandas as pd\n",
    "\n",
    "\n"
   ]
  },
  {
   "cell_type": "code",
   "execution_count": 4,
   "id": "eastern-soviet",
   "metadata": {},
   "outputs": [],
   "source": [
    "df = pd.read_csv(r\"C:\\Users\\sebun takahashi\\Desktop\\Python tutorial\\prophet\\NoCode_2020-05-28-23-25.csv\")\n"
   ]
  },
  {
   "cell_type": "code",
   "execution_count": 5,
   "id": "indonesian-albert",
   "metadata": {},
   "outputs": [
    {
     "data": {
      "text/html": [
       "<div>\n",
       "<style scoped>\n",
       "    .dataframe tbody tr th:only-of-type {\n",
       "        vertical-align: middle;\n",
       "    }\n",
       "\n",
       "    .dataframe tbody tr th {\n",
       "        vertical-align: top;\n",
       "    }\n",
       "\n",
       "    .dataframe thead th {\n",
       "        text-align: right;\n",
       "    }\n",
       "</style>\n",
       "<table border=\"1\" class=\"dataframe\">\n",
       "  <thead>\n",
       "    <tr style=\"text-align: right;\">\n",
       "      <th></th>\n",
       "      <th>Unnamed: 0</th>\n",
       "      <th>ユーザー名</th>\n",
       "      <th>ユーザーid</th>\n",
       "      <th>RT数</th>\n",
       "      <th>いいね数</th>\n",
       "      <th>日時</th>\n",
       "      <th>本文</th>\n",
       "    </tr>\n",
       "  </thead>\n",
       "  <tbody>\n",
       "    <tr>\n",
       "      <th>0</th>\n",
       "      <td>0</td>\n",
       "      <td>_NoCode</td>\n",
       "      <td>1266008783542800385</td>\n",
       "      <td>0</td>\n",
       "      <td>3</td>\n",
       "      <td>2020-05-28 23:09:49</td>\n",
       "      <td>Thanks to everyone that tuned in to our @ BAFT...</td>\n",
       "    </tr>\n",
       "    <tr>\n",
       "      <th>1</th>\n",
       "      <td>1</td>\n",
       "      <td>YaronMSK</td>\n",
       "      <td>1266008092443107328</td>\n",
       "      <td>0</td>\n",
       "      <td>1</td>\n",
       "      <td>2020-05-28 23:07:05</td>\n",
       "      <td>Thanks @ _NoCode and @ BAFTAGames for this ins...</td>\n",
       "    </tr>\n",
       "    <tr>\n",
       "      <th>2</th>\n",
       "      <td>2</td>\n",
       "      <td>cpdis</td>\n",
       "      <td>1266008019768274946</td>\n",
       "      <td>0</td>\n",
       "      <td>1</td>\n",
       "      <td>2020-05-28 23:06:47</td>\n",
       "      <td>@ webflow because I wanted to learn what this ...</td>\n",
       "    </tr>\n",
       "    <tr>\n",
       "      <th>3</th>\n",
       "      <td>3</td>\n",
       "      <td>nocodedevs</td>\n",
       "      <td>1266007968853655554</td>\n",
       "      <td>0</td>\n",
       "      <td>1</td>\n",
       "      <td>2020-05-28 23:06:35</td>\n",
       "      <td>Check out NoCodery ( @ nocodery)'s latest # no...</td>\n",
       "    </tr>\n",
       "    <tr>\n",
       "      <th>4</th>\n",
       "      <td>4</td>\n",
       "      <td>DanielDiggle</td>\n",
       "      <td>1266007553730916352</td>\n",
       "      <td>3</td>\n",
       "      <td>3</td>\n",
       "      <td>2020-05-28 23:04:56</td>\n",
       "      <td>Knights vs Goblins Assets starting to come tog...</td>\n",
       "    </tr>\n",
       "  </tbody>\n",
       "</table>\n",
       "</div>"
      ],
      "text/plain": [
       "   Unnamed: 0         ユーザー名               ユーザーid  RT数  いいね数  \\\n",
       "0           0       _NoCode  1266008783542800385    0     3   \n",
       "1           1      YaronMSK  1266008092443107328    0     1   \n",
       "2           2         cpdis  1266008019768274946    0     1   \n",
       "3           3    nocodedevs  1266007968853655554    0     1   \n",
       "4           4  DanielDiggle  1266007553730916352    3     3   \n",
       "\n",
       "                    日時                                                 本文  \n",
       "0  2020-05-28 23:09:49  Thanks to everyone that tuned in to our @ BAFT...  \n",
       "1  2020-05-28 23:07:05  Thanks @ _NoCode and @ BAFTAGames for this ins...  \n",
       "2  2020-05-28 23:06:47  @ webflow because I wanted to learn what this ...  \n",
       "3  2020-05-28 23:06:35  Check out NoCodery ( @ nocodery)'s latest # no...  \n",
       "4  2020-05-28 23:04:56  Knights vs Goblins Assets starting to come tog...  "
      ]
     },
     "execution_count": 5,
     "metadata": {},
     "output_type": "execute_result"
    }
   ],
   "source": [
    "df.head()"
   ]
  },
  {
   "cell_type": "code",
   "execution_count": 6,
   "id": "silver-amount",
   "metadata": {},
   "outputs": [
    {
     "data": {
      "text/html": [
       "<div>\n",
       "<style scoped>\n",
       "    .dataframe tbody tr th:only-of-type {\n",
       "        vertical-align: middle;\n",
       "    }\n",
       "\n",
       "    .dataframe tbody tr th {\n",
       "        vertical-align: top;\n",
       "    }\n",
       "\n",
       "    .dataframe thead th {\n",
       "        text-align: right;\n",
       "    }\n",
       "</style>\n",
       "<table border=\"1\" class=\"dataframe\">\n",
       "  <thead>\n",
       "    <tr style=\"text-align: right;\">\n",
       "      <th></th>\n",
       "      <th>Unnamed: 0</th>\n",
       "      <th>ユーザー名</th>\n",
       "      <th>ユーザーid</th>\n",
       "      <th>RT数</th>\n",
       "      <th>いいね数</th>\n",
       "      <th>日時</th>\n",
       "      <th>本文</th>\n",
       "    </tr>\n",
       "  </thead>\n",
       "  <tbody>\n",
       "    <tr>\n",
       "      <th>8781</th>\n",
       "      <td>8781</td>\n",
       "      <td>searchblox</td>\n",
       "      <td>1250455843872673796</td>\n",
       "      <td>4</td>\n",
       "      <td>3</td>\n",
       "      <td>2020-04-16 01:08:00</td>\n",
       "      <td>Setup full text # faceted # search for any # d...</td>\n",
       "    </tr>\n",
       "    <tr>\n",
       "      <th>8782</th>\n",
       "      <td>8782</td>\n",
       "      <td>meetKushan</td>\n",
       "      <td>1250455536769908737</td>\n",
       "      <td>0</td>\n",
       "      <td>1</td>\n",
       "      <td>2020-04-16 01:06:46</td>\n",
       "      <td>Building an Approval experience in Canvas Apps...</td>\n",
       "    </tr>\n",
       "    <tr>\n",
       "      <th>8783</th>\n",
       "      <td>8783</td>\n",
       "      <td>JensLennartsson</td>\n",
       "      <td>1250455136016584704</td>\n",
       "      <td>0</td>\n",
       "      <td>4</td>\n",
       "      <td>2020-04-16 01:05:11</td>\n",
       "      <td>If you could learn EVERYTHING about one # noco...</td>\n",
       "    </tr>\n",
       "    <tr>\n",
       "      <th>8784</th>\n",
       "      <td>8784</td>\n",
       "      <td>KNSG09</td>\n",
       "      <td>1250454131505901568</td>\n",
       "      <td>0</td>\n",
       "      <td>1</td>\n",
       "      <td>2020-04-16 01:01:11</td>\n",
       "      <td>Nocodeは知り合いに趣味で調べまくってる方がいるので可能性探るならご紹介します (ご興味...</td>\n",
       "    </tr>\n",
       "    <tr>\n",
       "      <th>8785</th>\n",
       "      <td>8785</td>\n",
       "      <td>apponboardinc</td>\n",
       "      <td>1250452616338984961</td>\n",
       "      <td>3</td>\n",
       "      <td>8</td>\n",
       "      <td>2020-04-16 00:55:10</td>\n",
       "      <td>Grow big and fast w/ # AppOnboardStudio! Check...</td>\n",
       "    </tr>\n",
       "  </tbody>\n",
       "</table>\n",
       "</div>"
      ],
      "text/plain": [
       "      Unnamed: 0            ユーザー名               ユーザーid  RT数  いいね数  \\\n",
       "8781        8781       searchblox  1250455843872673796    4     3   \n",
       "8782        8782       meetKushan  1250455536769908737    0     1   \n",
       "8783        8783  JensLennartsson  1250455136016584704    0     4   \n",
       "8784        8784           KNSG09  1250454131505901568    0     1   \n",
       "8785        8785    apponboardinc  1250452616338984961    3     8   \n",
       "\n",
       "                       日時                                                 本文  \n",
       "8781  2020-04-16 01:08:00  Setup full text # faceted # search for any # d...  \n",
       "8782  2020-04-16 01:06:46  Building an Approval experience in Canvas Apps...  \n",
       "8783  2020-04-16 01:05:11  If you could learn EVERYTHING about one # noco...  \n",
       "8784  2020-04-16 01:01:11  Nocodeは知り合いに趣味で調べまくってる方がいるので可能性探るならご紹介します (ご興味...  \n",
       "8785  2020-04-16 00:55:10  Grow big and fast w/ # AppOnboardStudio! Check...  "
      ]
     },
     "execution_count": 6,
     "metadata": {},
     "output_type": "execute_result"
    }
   ],
   "source": [
    "df.tail()\n"
   ]
  },
  {
   "cell_type": "code",
   "execution_count": 8,
   "id": "collected-prime",
   "metadata": {},
   "outputs": [
    {
     "data": {
      "text/plain": [
       "(8786, 7)"
      ]
     },
     "execution_count": 8,
     "metadata": {},
     "output_type": "execute_result"
    }
   ],
   "source": [
    "df.shape"
   ]
  },
  {
   "cell_type": "code",
   "execution_count": 11,
   "id": "developmental-accreditation",
   "metadata": {},
   "outputs": [
    {
     "data": {
      "text/html": [
       "<div>\n",
       "<style scoped>\n",
       "    .dataframe tbody tr th:only-of-type {\n",
       "        vertical-align: middle;\n",
       "    }\n",
       "\n",
       "    .dataframe tbody tr th {\n",
       "        vertical-align: top;\n",
       "    }\n",
       "\n",
       "    .dataframe thead th {\n",
       "        text-align: right;\n",
       "    }\n",
       "</style>\n",
       "<table border=\"1\" class=\"dataframe\">\n",
       "  <thead>\n",
       "    <tr style=\"text-align: right;\">\n",
       "      <th></th>\n",
       "      <th>日時</th>\n",
       "      <th>いいね数</th>\n",
       "    </tr>\n",
       "  </thead>\n",
       "  <tbody>\n",
       "    <tr>\n",
       "      <th>0</th>\n",
       "      <td>2020-05-28 23:09:49</td>\n",
       "      <td>3</td>\n",
       "    </tr>\n",
       "    <tr>\n",
       "      <th>1</th>\n",
       "      <td>2020-05-28 23:07:05</td>\n",
       "      <td>1</td>\n",
       "    </tr>\n",
       "    <tr>\n",
       "      <th>2</th>\n",
       "      <td>2020-05-28 23:06:47</td>\n",
       "      <td>1</td>\n",
       "    </tr>\n",
       "    <tr>\n",
       "      <th>3</th>\n",
       "      <td>2020-05-28 23:06:35</td>\n",
       "      <td>1</td>\n",
       "    </tr>\n",
       "    <tr>\n",
       "      <th>4</th>\n",
       "      <td>2020-05-28 23:04:56</td>\n",
       "      <td>3</td>\n",
       "    </tr>\n",
       "  </tbody>\n",
       "</table>\n",
       "</div>"
      ],
      "text/plain": [
       "                    日時  いいね数\n",
       "0  2020-05-28 23:09:49     3\n",
       "1  2020-05-28 23:07:05     1\n",
       "2  2020-05-28 23:06:47     1\n",
       "3  2020-05-28 23:06:35     1\n",
       "4  2020-05-28 23:04:56     3"
      ]
     },
     "execution_count": 11,
     "metadata": {},
     "output_type": "execute_result"
    }
   ],
   "source": [
    "df.iloc[0:5,[5,4]]"
   ]
  },
  {
   "cell_type": "code",
   "execution_count": null,
   "id": "crazy-behavior",
   "metadata": {},
   "outputs": [],
   "source": []
  }
 ],
 "metadata": {
  "kernelspec": {
   "display_name": "Python 3",
   "language": "python",
   "name": "python3"
  },
  "language_info": {
   "codemirror_mode": {
    "name": "ipython",
    "version": 3
   },
   "file_extension": ".py",
   "mimetype": "text/x-python",
   "name": "python",
   "nbconvert_exporter": "python",
   "pygments_lexer": "ipython3",
   "version": "3.8.5"
  }
 },
 "nbformat": 4,
 "nbformat_minor": 5
}
